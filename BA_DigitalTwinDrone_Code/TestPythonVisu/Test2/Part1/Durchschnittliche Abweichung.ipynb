{
 "cells": [
  {
   "cell_type": "code",
   "execution_count": 1,
   "id": "4be8f667",
   "metadata": {},
   "outputs": [],
   "source": [
    "import pandas as pd\n",
    "import numpy as np\n",
    "\n",
    "csv_files = ['Wiederholungen/Exe1.csv', 'Wiederholungen/Exe2.csv', 'Wiederholungen/Exe3.csv', \n",
    "             'Wiederholungen/Exe4.csv', 'Wiederholungen/Exe5.csv', 'Wiederholungen/Exe6.csv', \n",
    "             'Wiederholungen/Exe7.csv', 'Wiederholungen/Exe8.csv', 'Wiederholungen/Exe9.csv', \n",
    "             'Wiederholungen/Exe10.csv', 'BA_Exp2_Trajectory.csv' ]\n",
    "\n",
    "all_row_by_files = []  # 2D array, in der alle zeilen jeder Datei eingefügt ist\n",
    "\n",
    "first_action = []\n",
    "second_action = []\n",
    "third_action = []\n",
    "fourth_action = []\n",
    "fifth_action = []\n",
    "sixth_action = []\n",
    "seventh_action = []\n",
    "eigth_action = []\n",
    "ninth_action = []\n",
    "tenth_action = []\n",
    "eleventh_action = []\n",
    "twelfth_action = []\n",
    "thirdteenth_action = []\n",
    "\n",
    "# Filtere aus allen Dtein die unerwünschten Attribute heraus.\n",
    "for csv_file in csv_files:\n",
    "    df = pd.read_csv(csv_file, sep=\";\")\n",
    "    filtered_df = df[df['input'] != 'Unknown']\n",
    "    filtered_df = filtered_df[filtered_df['input'] != 'Connect']\n",
    "    filtered_df = filtered_df[filtered_df['input'] != 'StopRrNavigationRecording']\n",
    "    filtered_df = filtered_df[filtered_df['input'] != 'StartRrNavigation']\n",
    "    filtered_df = filtered_df[filtered_df['input'] != 'TakeOff']\n",
    "    \n",
    "    all_row_by_files.append(filtered_df.values)\n",
    "\n",
    "for row in all_row_by_files:\n",
    "    first_action.append(row[0])\n",
    "    second_action.append(row[1])\n",
    "    third_action.append(row[2])\n",
    "    fourth_action.append(row[3])\n",
    "    fifth_action.append(row[4])\n",
    "    sixth_action.append(row[5])\n",
    "    seventh_action.append(row[6])\n",
    "    eigth_action.append(row[7])\n",
    "    ninth_action.append(row[8])\n",
    "    tenth_action.append(row[9])\n",
    "    eleventh_action.append(row[10])\n",
    "    twelfth_action.append(row[11])\n",
    "    thirdteenth_action.append(row[12])\n",
    "    \n",
    "merged_actions = np.concatenate(\n",
    "    (first_action, \n",
    "     second_action, \n",
    "     third_action, \n",
    "     fourth_action, \n",
    "     fifth_action, \n",
    "     sixth_action, \n",
    "     seventh_action, \n",
    "     eigth_action, \n",
    "     ninth_action, \n",
    "     tenth_action,\n",
    "     eleventh_action, \n",
    "     twelfth_action, \n",
    "     thirdteenth_action), axis=0)\n",
    "\n",
    "average_distances = []"
   ]
  },
  {
   "cell_type": "code",
   "execution_count": 2,
   "id": "409f7257",
   "metadata": {},
   "outputs": [
    {
     "name": "stdout",
     "output_type": "stream",
     "text": [
      "0.10203430376906686\n"
     ]
    }
   ],
   "source": [
    "# Durchschnittlicher Abstand Act1\n",
    "import math\n",
    "\n",
    "curr_action = first_action\n",
    "origin = curr_action[-1]\n",
    "origin_x = (origin[2] - 50) / 10 # skaliere von cm in m und versetze die pos auf (0,0)\n",
    "origin_y = (origin[3]  - 50) / 10\n",
    "\n",
    "\n",
    "num_of_retries = len(curr_action) - 1\n",
    "distances = []\n",
    "\n",
    "for index in range(num_of_retries):\n",
    "    retry_x = (curr_action[index][2]  - 50) / 10\n",
    "    retry_y = (curr_action[index][3]  - 50) / 10\n",
    "\n",
    "    distance = math.sqrt((retry_x - origin_x)**2 + (retry_y - origin_y)**2)\n",
    "    distances.append(distance)\n",
    "\n",
    "average_distance = sum(distances) / len(distances)\n",
    "average_distances.append(average_distance)\n",
    "print(average_distance)"
   ]
  },
  {
   "cell_type": "code",
   "execution_count": 3,
   "id": "21b92f5e",
   "metadata": {},
   "outputs": [
    {
     "name": "stdout",
     "output_type": "stream",
     "text": [
      "0.2785840650240497\n"
     ]
    }
   ],
   "source": [
    "# Durchschnittlicher Abstand Act2\n",
    "import math\n",
    "\n",
    "curr_action = second_action\n",
    "origin = curr_action[-1]\n",
    "origin_x = (origin[2] - 50) / 10 # skaliere von cm in m und versetze die pos auf (0,0)\n",
    "origin_y = (origin[3]  - 50) / 10\n",
    "\n",
    "\n",
    "num_of_retries = len(curr_action) - 1\n",
    "distances = []\n",
    "\n",
    "for index in range(num_of_retries):\n",
    "    retry_x = (curr_action[index][2]  - 50) / 10\n",
    "    retry_y = (curr_action[index][3]  - 50) / 10\n",
    "\n",
    "    distance = math.sqrt((retry_x - origin_x)**2 + (retry_y - origin_y)**2)\n",
    "    distances.append(distance)\n",
    "\n",
    "average_distance = sum(distances) / len(distances)\n",
    "average_distances.append(average_distance)\n",
    "\n",
    "print(average_distance)"
   ]
  },
  {
   "cell_type": "code",
   "execution_count": 4,
   "id": "3d5df7e7",
   "metadata": {},
   "outputs": [
    {
     "name": "stdout",
     "output_type": "stream",
     "text": [
      "0.25859934453505584\n"
     ]
    }
   ],
   "source": [
    "# Durchschnittlicher Abstand Act3\n",
    "import math\n",
    "\n",
    "curr_action = third_action\n",
    "origin = curr_action[-1]\n",
    "origin_x = (origin[2] - 50) / 10 # skaliere von cm in m und versetze die pos auf (0,0)\n",
    "origin_y = (origin[3]  - 50) / 10\n",
    "\n",
    "\n",
    "num_of_retries = len(curr_action) - 1\n",
    "distances = []\n",
    "\n",
    "for index in range(num_of_retries):\n",
    "    retry_x = (curr_action[index][2]  - 50) / 10\n",
    "    retry_y = (curr_action[index][3]  - 50) / 10\n",
    "\n",
    "    distance = math.sqrt((retry_x - origin_x)**2 + (retry_y - origin_y)**2)\n",
    "    distances.append(distance)\n",
    "\n",
    "average_distance = sum(distances) / len(distances)\n",
    "average_distances.append(average_distance)\n",
    "\n",
    "print(average_distance)"
   ]
  },
  {
   "cell_type": "code",
   "execution_count": 5,
   "id": "b1145760",
   "metadata": {},
   "outputs": [
    {
     "name": "stdout",
     "output_type": "stream",
     "text": [
      "0.31707331688305695\n"
     ]
    }
   ],
   "source": [
    "import math\n",
    "\n",
    "curr_action = fourth_action\n",
    "origin = curr_action[-1]\n",
    "origin_x = (origin[2] - 50) / 10 # skaliere von cm in m und versetze die pos auf (0,0)\n",
    "origin_y = (origin[3]  - 50) / 10\n",
    "\n",
    "\n",
    "num_of_retries = len(curr_action) - 1\n",
    "distances = []\n",
    "\n",
    "for index in range(num_of_retries):\n",
    "    retry_x = (curr_action[index][2]  - 50) / 10\n",
    "    retry_y = (curr_action[index][3]  - 50) / 10\n",
    "\n",
    "    distance = math.sqrt((retry_x - origin_x)**2 + (retry_y - origin_y)**2)\n",
    "    distances.append(distance)\n",
    "\n",
    "average_distance = sum(distances) / len(distances)\n",
    "average_distances.append(average_distance)\n",
    "\n",
    "print(average_distance)"
   ]
  },
  {
   "cell_type": "code",
   "execution_count": 6,
   "id": "c4fda623",
   "metadata": {},
   "outputs": [
    {
     "name": "stdout",
     "output_type": "stream",
     "text": [
      "0.30265287432504706\n"
     ]
    }
   ],
   "source": [
    "import math\n",
    "\n",
    "curr_action = fifth_action\n",
    "origin = curr_action[-1]\n",
    "origin_x = (origin[2] - 50) / 10 # skaliere von cm in m und versetze die pos auf (0,0)\n",
    "origin_y = (origin[3]  - 50) / 10\n",
    "\n",
    "\n",
    "num_of_retries = len(curr_action) - 1\n",
    "distances = []\n",
    "\n",
    "for index in range(num_of_retries):\n",
    "    retry_x = (curr_action[index][2]  - 50) / 10\n",
    "    retry_y = (curr_action[index][3]  - 50) / 10\n",
    "\n",
    "    distance = math.sqrt((retry_x - origin_x)**2 + (retry_y - origin_y)**2)\n",
    "    distances.append(distance)\n",
    "\n",
    "average_distance = sum(distances) / len(distances)\n",
    "average_distances.append(average_distance)\n",
    "\n",
    "print(average_distance)"
   ]
  },
  {
   "cell_type": "code",
   "execution_count": 7,
   "id": "a68972c7",
   "metadata": {},
   "outputs": [
    {
     "name": "stdout",
     "output_type": "stream",
     "text": [
      "0.279936010479396\n"
     ]
    }
   ],
   "source": [
    "import math\n",
    "\n",
    "curr_action = sixth_action\n",
    "origin = curr_action[-1]\n",
    "origin_x = (origin[2] - 50) / 10 # skaliere von cm in m und versetze die pos auf (0,0)\n",
    "origin_y = (origin[3]  - 50) / 10\n",
    "\n",
    "\n",
    "num_of_retries = len(curr_action) - 1\n",
    "distances = []\n",
    "\n",
    "for index in range(num_of_retries):\n",
    "    retry_x = (curr_action[index][2]  - 50) / 10\n",
    "    retry_y = (curr_action[index][3]  - 50) / 10\n",
    "\n",
    "    distance = math.sqrt((retry_x - origin_x)**2 + (retry_y - origin_y)**2)\n",
    "    distances.append(distance)\n",
    "\n",
    "average_distance = sum(distances) / len(distances)\n",
    "average_distances.append(average_distance)\n",
    "\n",
    "print(average_distance)"
   ]
  },
  {
   "cell_type": "code",
   "execution_count": 8,
   "id": "44973421",
   "metadata": {},
   "outputs": [
    {
     "name": "stdout",
     "output_type": "stream",
     "text": [
      "0.3797045806788023\n"
     ]
    }
   ],
   "source": [
    "import math\n",
    "\n",
    "curr_action = seventh_action\n",
    "origin = curr_action[-1]\n",
    "origin_x = (origin[2] - 50) / 10 # skaliere von cm in m und versetze die pos auf (0,0)\n",
    "origin_y = (origin[3]  - 50) / 10\n",
    "\n",
    "\n",
    "num_of_retries = len(curr_action) - 1\n",
    "distances = []\n",
    "\n",
    "for index in range(num_of_retries):\n",
    "    retry_x = (curr_action[index][2]  - 50) / 10\n",
    "    retry_y = (curr_action[index][3]  - 50) / 10\n",
    "\n",
    "    distance = math.sqrt((retry_x - origin_x)**2 + (retry_y - origin_y)**2)\n",
    "    distances.append(distance)\n",
    "\n",
    "average_distance = sum(distances) / len(distances)\n",
    "average_distances.append(average_distance)\n",
    "\n",
    "print(average_distance)"
   ]
  },
  {
   "cell_type": "code",
   "execution_count": 9,
   "id": "252f5433",
   "metadata": {},
   "outputs": [
    {
     "name": "stdout",
     "output_type": "stream",
     "text": [
      "0.4329644955083169\n"
     ]
    }
   ],
   "source": [
    "import math\n",
    "\n",
    "curr_action = eigth_action\n",
    "origin = curr_action[-1]\n",
    "origin_x = (origin[2] - 50) / 10 # skaliere von cm in m und versetze die pos auf (0,0)\n",
    "origin_y = (origin[3]  - 50) / 10\n",
    "\n",
    "\n",
    "num_of_retries = len(curr_action) - 1\n",
    "distances = []\n",
    "\n",
    "for index in range(num_of_retries):\n",
    "    retry_x = (curr_action[index][2]  - 50) / 10\n",
    "    retry_y = (curr_action[index][3]  - 50) / 10\n",
    "\n",
    "    distance = math.sqrt((retry_x - origin_x)**2 + (retry_y - origin_y)**2)\n",
    "    distances.append(distance)\n",
    "\n",
    "average_distance = sum(distances) / len(distances)\n",
    "average_distances.append(average_distance)\n",
    "\n",
    "print(average_distance)"
   ]
  },
  {
   "cell_type": "code",
   "execution_count": 10,
   "id": "934b9609",
   "metadata": {},
   "outputs": [
    {
     "name": "stdout",
     "output_type": "stream",
     "text": [
      "0.4372759351453476\n"
     ]
    }
   ],
   "source": [
    "import math\n",
    "\n",
    "curr_action = ninth_action\n",
    "origin = curr_action[-1]\n",
    "origin_x = (origin[2] - 50) / 10 # skaliere von cm in m und versetze die pos auf (0,0)\n",
    "origin_y = (origin[3]  - 50) / 10\n",
    "\n",
    "\n",
    "num_of_retries = len(curr_action) - 1\n",
    "distances = []\n",
    "\n",
    "for index in range(num_of_retries):\n",
    "    retry_x = (curr_action[index][2]  - 50) / 10\n",
    "    retry_y = (curr_action[index][3]  - 50) / 10\n",
    "\n",
    "    distance = math.sqrt((retry_x - origin_x)**2 + (retry_y - origin_y)**2)\n",
    "    distances.append(distance)\n",
    "\n",
    "average_distance = sum(distances) / len(distances)\n",
    "average_distances.append(average_distance)\n",
    "\n",
    "print(average_distance)"
   ]
  },
  {
   "cell_type": "code",
   "execution_count": 11,
   "id": "6bf31f08",
   "metadata": {},
   "outputs": [
    {
     "name": "stdout",
     "output_type": "stream",
     "text": [
      "0.49256924639564614\n"
     ]
    }
   ],
   "source": [
    "import math\n",
    "\n",
    "curr_action = tenth_action\n",
    "origin = curr_action[-1]\n",
    "origin_x = (origin[2] - 50) / 10 # skaliere von cm in m und versetze die pos auf (0,0)\n",
    "origin_y = (origin[3]  - 50) / 10\n",
    "\n",
    "\n",
    "num_of_retries = len(curr_action) - 1\n",
    "distances = []\n",
    "\n",
    "for index in range(num_of_retries):\n",
    "    retry_x = (curr_action[index][2]  - 50) / 10\n",
    "    retry_y = (curr_action[index][3]  - 50) / 10\n",
    "\n",
    "    distance = math.sqrt((retry_x - origin_x)**2 + (retry_y - origin_y)**2)\n",
    "    distances.append(distance)\n",
    "\n",
    "average_distance = sum(distances) / len(distances)\n",
    "average_distances.append(average_distance)\n",
    "\n",
    "print(average_distance)"
   ]
  },
  {
   "cell_type": "code",
   "execution_count": 12,
   "id": "840efd24",
   "metadata": {},
   "outputs": [
    {
     "name": "stdout",
     "output_type": "stream",
     "text": [
      "0.507657673677298\n"
     ]
    }
   ],
   "source": [
    "import math\n",
    "\n",
    "curr_action = eleventh_action\n",
    "origin = curr_action[-1]\n",
    "origin_x = (origin[2] - 50) / 10 # skaliere von cm in m und versetze die pos auf (0,0)\n",
    "origin_y = (origin[3]  - 50) / 10\n",
    "\n",
    "\n",
    "num_of_retries = len(curr_action) - 1\n",
    "distances = []\n",
    "\n",
    "for index in range(num_of_retries):\n",
    "    retry_x = (curr_action[index][2]  - 50) / 10\n",
    "    retry_y = (curr_action[index][3]  - 50) / 10\n",
    "\n",
    "    distance = math.sqrt((retry_x - origin_x)**2 + (retry_y - origin_y)**2)\n",
    "    distances.append(distance)\n",
    "\n",
    "average_distance = sum(distances) / len(distances)\n",
    "average_distances.append(average_distance)\n",
    "\n",
    "print(average_distance)"
   ]
  },
  {
   "cell_type": "code",
   "execution_count": 13,
   "id": "86d2a998",
   "metadata": {},
   "outputs": [
    {
     "name": "stdout",
     "output_type": "stream",
     "text": [
      "0.530845531103278\n"
     ]
    }
   ],
   "source": [
    "import math\n",
    "\n",
    "curr_action = twelfth_action\n",
    "origin = curr_action[-1]\n",
    "origin_x = (origin[2] - 50) / 10 # skaliere von cm in m und versetze die pos auf (0,0)\n",
    "origin_y = (origin[3]  - 50) / 10\n",
    "\n",
    "\n",
    "num_of_retries = len(curr_action) - 1\n",
    "distances = []\n",
    "\n",
    "for index in range(num_of_retries):\n",
    "    retry_x = (curr_action[index][2]  - 50) / 10\n",
    "    retry_y = (curr_action[index][3]  - 50) / 10\n",
    "\n",
    "    distance = math.sqrt((retry_x - origin_x)**2 + (retry_y - origin_y)**2)\n",
    "    distances.append(distance)\n",
    "\n",
    "average_distance = sum(distances) / len(distances)\n",
    "average_distances.append(average_distance)\n",
    "\n",
    "print(average_distance)"
   ]
  },
  {
   "cell_type": "code",
   "execution_count": 14,
   "id": "23a2269b",
   "metadata": {},
   "outputs": [
    {
     "name": "stdout",
     "output_type": "stream",
     "text": [
      "0.5235026366489655\n"
     ]
    }
   ],
   "source": [
    "import math\n",
    "\n",
    "curr_action = thirdteenth_action\n",
    "origin = curr_action[-1]\n",
    "origin_x = (origin[2] - 50) / 10 # skaliere von cm in m und versetze die pos auf (0,0)\n",
    "origin_y = (origin[3]  - 50) / 10\n",
    "\n",
    "\n",
    "num_of_retries = len(curr_action) - 1\n",
    "distances = []\n",
    "\n",
    "for index in range(num_of_retries):\n",
    "    retry_x = (curr_action[index][2]  - 50) / 10\n",
    "    retry_y = (curr_action[index][3]  - 50) / 10\n",
    "\n",
    "    distance = math.sqrt((retry_x - origin_x)**2 + (retry_y - origin_y)**2)\n",
    "    distances.append(distance)\n",
    "\n",
    "average_distance = sum(distances) / len(distances)\n",
    "average_distances.append(average_distance)\n",
    "\n",
    "print(average_distance)"
   ]
  },
  {
   "cell_type": "code",
   "execution_count": 15,
   "id": "6ff1680d",
   "metadata": {},
   "outputs": [
    {
     "name": "stdout",
     "output_type": "stream",
     "text": [
      "0.37256923185948665\n",
      "0.4750915492957745\n",
      "1.012806338028169\n"
     ]
    }
   ],
   "source": [
    "# Durchschnitt über alle\n",
    "import math\n",
    "\n",
    "curr_action = merged_actions\n",
    "origin = curr_action[-1]\n",
    "origin_x = (origin[2] - 50) / 10 # skaliere von cm in m und versetze die pos auf (0,0)\n",
    "origin_y = (origin[3]  - 50) / 10\n",
    "\n",
    "num_of_retries = len(curr_action) - 1\n",
    "\n",
    "distancesX = []\n",
    "distancesY = []\n",
    "\n",
    "\n",
    "for index in range(num_of_retries):\n",
    "    tests_coor_x = (curr_action[index][2]  - 50) / 10\n",
    "    tests_coor_y = (curr_action[index][3]  - 50) / 10\n",
    "    \n",
    "    distanceX = math.sqrt((tests_coor_x - origin_x)**2)\n",
    "    distanceY = math.sqrt((tests_coor_y - origin_x)**2) \n",
    "    distancesX.append(distanceX)\n",
    "    distancesY.append(distanceY)\n",
    "\n",
    "average_distance_x = sum(distancesX) / len(distancesX)\n",
    "average_distance_y = sum(distancesY) / len(distancesY)\n",
    "average_distance_overall = sum(average_distances) / len(average_distances)\n",
    "\n",
    "print(average_distance_overall)\n",
    "print(average_distance_x)\n",
    "print(average_distance_y)"
   ]
  },
  {
   "cell_type": "code",
   "execution_count": null,
   "id": "bc66e7be",
   "metadata": {},
   "outputs": [],
   "source": []
  }
 ],
 "metadata": {
  "kernelspec": {
   "display_name": "Python 3 (ipykernel)",
   "language": "python",
   "name": "python3"
  },
  "language_info": {
   "codemirror_mode": {
    "name": "ipython",
    "version": 3
   },
   "file_extension": ".py",
   "mimetype": "text/x-python",
   "name": "python",
   "nbconvert_exporter": "python",
   "pygments_lexer": "ipython3",
   "version": "3.10.6"
  }
 },
 "nbformat": 4,
 "nbformat_minor": 5
}
